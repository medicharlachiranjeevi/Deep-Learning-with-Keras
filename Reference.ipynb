{
  "nbformat": 4,
  "nbformat_minor": 0,
  "metadata": {
    "colab": {
      "name": "My code",
      "provenance": [],
      "collapsed_sections": [],
      "machine_shape": "hm",
      "include_colab_link": true
    },
    "kernelspec": {
      "name": "python3",
      "display_name": "Python 3"
    },
    "accelerator": "GPU"
  },
  "cells": [
    {
      "cell_type": "markdown",
      "metadata": {
        "id": "view-in-github",
        "colab_type": "text"
      },
      "source": [
        "<a href=\"https://colab.research.google.com/github/medicharlachiranjeevi/Deep-Learning-with-Keras/blob/master/Reference.ipynb\" target=\"_parent\"><img src=\"https://colab.research.google.com/assets/colab-badge.svg\" alt=\"Open In Colab\"/></a>"
      ]
    },
    {
      "cell_type": "code",
      "metadata": {
        "id": "v132I-g7OEZx",
        "colab_type": "code",
        "outputId": "5ae41297-167b-4af7-a274-b397f802bb3c",
        "colab": {
          "base_uri": "https://localhost:8080/",
          "height": 122
        }
      },
      "source": [
        "from google.colab import drive\n",
        "drive.mount('/content/drive')"
      ],
      "execution_count": 0,
      "outputs": [
        {
          "output_type": "stream",
          "text": [
            "Go to this URL in a browser: https://accounts.google.com/o/oauth2/auth?client_id=947318989803-6bn6qk8qdgf4n4g3pfee6491hc0brc4i.apps.googleusercontent.com&redirect_uri=urn%3aietf%3awg%3aoauth%3a2.0%3aoob&response_type=code&scope=email%20https%3a%2f%2fwww.googleapis.com%2fauth%2fdocs.test%20https%3a%2f%2fwww.googleapis.com%2fauth%2fdrive%20https%3a%2f%2fwww.googleapis.com%2fauth%2fdrive.photos.readonly%20https%3a%2f%2fwww.googleapis.com%2fauth%2fpeopleapi.readonly\n",
            "\n",
            "Enter your authorization code:\n",
            "··········\n",
            "Mounted at /content/drive\n"
          ],
          "name": "stdout"
        }
      ]
    },
    {
      "cell_type": "code",
      "metadata": {
        "id": "sozTSnHfgP76",
        "colab_type": "code",
        "colab": {}
      },
      "source": [
        "!unzip \"/content/drive/My Drive/DL# Beginner.zip\""
      ],
      "execution_count": 0,
      "outputs": []
    },
    {
      "cell_type": "code",
      "metadata": {
        "id": "amn2x8fha2uo",
        "colab_type": "code",
        "colab": {}
      },
      "source": [
        "import numpy as np\n",
        "import pandas as pd \n",
        "import seaborn as sns\n",
        "import matplotlib.pyplot as plt \n",
        "from glob import glob\n"
      ],
      "execution_count": 0,
      "outputs": []
    },
    {
      "cell_type": "code",
      "metadata": {
        "id": "J8YlxQSpa8BW",
        "colab_type": "code",
        "outputId": "28773c47-d11b-4a4f-ac59-03c6442f9a15",
        "colab": {
          "base_uri": "https://localhost:8080/",
          "height": 204
        }
      },
      "source": [
        "\n",
        "#%%\n",
        "# Reading the train and test csv files \n",
        "train = pd.read_csv('/content/DL# Beginner/meta-data/train.csv')\n",
        "test = pd.read_csv('/content/DL# Beginner/meta-data/test.csv')\n",
        "\n",
        "\n",
        "#%%\n",
        "train.head()\n",
        "\n"
      ],
      "execution_count": 0,
      "outputs": [
        {
          "output_type": "execute_result",
          "data": {
            "text/html": [
              "<div>\n",
              "<style scoped>\n",
              "    .dataframe tbody tr th:only-of-type {\n",
              "        vertical-align: middle;\n",
              "    }\n",
              "\n",
              "    .dataframe tbody tr th {\n",
              "        vertical-align: top;\n",
              "    }\n",
              "\n",
              "    .dataframe thead th {\n",
              "        text-align: right;\n",
              "    }\n",
              "</style>\n",
              "<table border=\"1\" class=\"dataframe\">\n",
              "  <thead>\n",
              "    <tr style=\"text-align: right;\">\n",
              "      <th></th>\n",
              "      <th>Image_id</th>\n",
              "      <th>Animal</th>\n",
              "    </tr>\n",
              "  </thead>\n",
              "  <tbody>\n",
              "    <tr>\n",
              "      <th>0</th>\n",
              "      <td>Img-1.jpg</td>\n",
              "      <td>hippopotamus</td>\n",
              "    </tr>\n",
              "    <tr>\n",
              "      <th>1</th>\n",
              "      <td>Img-2.jpg</td>\n",
              "      <td>squirrel</td>\n",
              "    </tr>\n",
              "    <tr>\n",
              "      <th>2</th>\n",
              "      <td>Img-3.jpg</td>\n",
              "      <td>grizzly+bear</td>\n",
              "    </tr>\n",
              "    <tr>\n",
              "      <th>3</th>\n",
              "      <td>Img-4.jpg</td>\n",
              "      <td>ox</td>\n",
              "    </tr>\n",
              "    <tr>\n",
              "      <th>4</th>\n",
              "      <td>Img-5.jpg</td>\n",
              "      <td>german+shepherd</td>\n",
              "    </tr>\n",
              "  </tbody>\n",
              "</table>\n",
              "</div>"
            ],
            "text/plain": [
              "    Image_id           Animal\n",
              "0  Img-1.jpg     hippopotamus\n",
              "1  Img-2.jpg         squirrel\n",
              "2  Img-3.jpg     grizzly+bear\n",
              "3  Img-4.jpg               ox\n",
              "4  Img-5.jpg  german+shepherd"
            ]
          },
          "metadata": {
            "tags": []
          },
          "execution_count": 2
        }
      ]
    },
    {
      "cell_type": "code",
      "metadata": {
        "id": "zXvhS-12bBOl",
        "colab_type": "code",
        "outputId": "0eaa97ee-f83e-4b70-8511-1f0415f5721e",
        "colab": {
          "base_uri": "https://localhost:8080/",
          "height": 787
        }
      },
      "source": [
        "\n",
        "#%%\n",
        "# Number of images in the training and the test datasets. \n",
        "print('There are {} images in the train dataset.'.format(train.shape[0]))\n",
        "print('There are {} images in the test datasets.'.format(test.shape[0]))\n",
        "\n",
        "\n",
        "#%%\n",
        "# Number of unique animals in the datasets\n",
        "print('There are {} unique animals in the dataset.'.format(train.Animal.unique().shape[0]))\n",
        "\n",
        "#%% [markdown]\n",
        "# Lets see which Animals are there in the dataset.\n",
        "\n",
        "#%%\n",
        "print('The dataset contain images of the following animals:\\n\\n', train.Animal.unique())\n",
        "\n",
        "\n",
        "#%%\n",
        "animal_count = pd.value_counts(train.Animal)\n",
        "\n",
        "\n",
        "#%%\n",
        "plt.figure(figsize=(15, 8))\n",
        "ax = sns.barplot(x=animal_count.index, y=animal_count.values)\n",
        "ax.set_xticklabels(ax.get_xticklabels(), rotation= 90)\n",
        "ax.set_title('Frequency Distribution of the Animals in the Training Data')\n",
        "ax.set(xlabel='Animals', ylabel='Count')\n",
        "plt.show()\n",
        "\n"
      ],
      "execution_count": 0,
      "outputs": [
        {
          "output_type": "stream",
          "text": [
            "There are 13000 images in the train dataset.\n",
            "There are 6000 images in the test datasets.\n",
            "There are 30 unique animals in the dataset.\n",
            "The dataset contain images of the following animals:\n",
            "\n",
            " ['hippopotamus' 'squirrel' 'grizzly+bear' 'ox' 'german+shepherd' 'buffalo'\n",
            " 'otter' 'bobcat' 'wolf' 'persian+cat' 'collie' 'antelope' 'seal'\n",
            " 'dalmatian' 'siamese+cat' 'moose' 'horse' 'killer+whale' 'mouse' 'walrus'\n",
            " 'beaver' 'rhinoceros' 'chimpanzee' 'weasel' 'spider+monkey' 'raccoon'\n",
            " 'rat' 'chihuahua' 'mole' 'bat']\n"
          ],
          "name": "stdout"
        },
        {
          "output_type": "display_data",
          "data": {
            "image/png": "[encoded data removed]",
            "text/plain": [
              "<Figure size 1080x576 with 1 Axes>"
            ]
          },
          "metadata": {
            "tags": []
          }
        }
      ]
    },
    {
      "cell_type": "code",
      "metadata": {
        "id": "9rUIShE1djDm",
        "colab_type": "code",
        "colab": {}
      },
      "source": [
        "\n",
        "#%%\n",
        "### Checking for any null values in the labels \n",
        "labels  =  train.Animal\n",
        "labels.isnull().any()\n",
        "\n",
        "\n",
        "#%%\n",
        "### Train adn Test image folder paths\n",
        "\n",
        "TRAIN_PATH = '/content/DL# Beginner/train/' \n",
        "TEST_PATH = '/content/DL# Beginner/test/'\n",
        "\n",
        "\n",
        "#%%\n",
        "### Importing Python Image Library and Opencv library\n",
        "from PIL import Image\n",
        "import cv2\n",
        "\n",
        "\n",
        "#%%\n"
      ],
      "execution_count": 0,
      "outputs": []
    },
    {
      "cell_type": "code",
      "metadata": {
        "id": "426fPQqHdhIi",
        "colab_type": "code",
        "outputId": "8b84f01b-b06c-4415-c573-1b3d0293fed7",
        "colab": {
          "base_uri": "https://localhost:8080/",
          "height": 34
        }
      },
      "source": [
        "print('Animal: ',train.Animal[0])\n",
        "Image.open(TRAIN_PATH + train.Image_id[0])\n",
        "\n",
        "img = cv2.imread(TRAIN_PATH+train.Image_id[0])\n",
        "\n",
        "\n"
      ],
      "execution_count": 0,
      "outputs": [
        {
          "output_type": "stream",
          "text": [
            "Animal:  hippopotamus\n"
          ],
          "name": "stdout"
        }
      ]
    },
    {
      "cell_type": "markdown",
      "metadata": {
        "id": "Y75vLg0Bdw7e",
        "colab_type": "text"
      },
      "source": [
        ""
      ]
    },
    {
      "cell_type": "code",
      "metadata": {
        "id": "qF1ibwq4dxO2",
        "colab_type": "code",
        "outputId": "447c380f-3e50-484c-a5e3-58c6f2968fd2",
        "colab": {
          "base_uri": "https://localhost:8080/",
          "height": 102
        }
      },
      "source": [
        "sample = train.head()\n",
        "for idx in sample.Image_id:\n",
        "    img = cv2.imread(TRAIN_PATH + idx)\n",
        "    print('{} : {}'.format(idx, img.shape))\n"
      ],
      "execution_count": 0,
      "outputs": [
        {
          "output_type": "stream",
          "text": [
            "Img-1.jpg : (1024, 576, 3)\n",
            "Img-2.jpg : (771, 1024, 3)\n",
            "Img-3.jpg : (683, 1024, 3)\n",
            "Img-4.jpg : (681, 1024, 3)\n",
            "Img-5.jpg : (500, 332, 3)\n"
          ],
          "name": "stdout"
        }
      ]
    },
    {
      "cell_type": "code",
      "metadata": {
        "id": "qnThahz_ecp-",
        "colab_type": "code",
        "colab": {}
      },
      "source": [
        "from tqdm import tqdm\n",
        "from tensorflow.keras.applications.vgg16 import preprocess_input\n",
        "\n",
        "def read_img(img_path):\n",
        "    img = cv2.imread(img_path)\n",
        "    img = cv2.resize(img, (224, 224))\n",
        "    return img\n",
        "\n"
      ],
      "execution_count": 0,
      "outputs": []
    },
    {
      "cell_type": "code",
      "metadata": {
        "id": "RWaS39Ptehz0",
        "colab_type": "code",
        "outputId": "f60c41b0-7473-42df-a83b-2c04d56658fb",
        "colab": {
          "base_uri": "https://localhost:8080/",
          "height": 34
        }
      },
      "source": [
        "import os\n",
        "train_img = []\n",
        "count=0\n",
        "for img_path in tqdm(train.Image_id.values):\n",
        "    if os.path.exists(TRAIN_PATH + img_path):\n",
        "      count=count+1\n",
        "      train_img.append(read_img(TRAIN_PATH + img_path))"
      ],
      "execution_count": 0,
      "outputs": [
        {
          "output_type": "stream",
          "text": [
            "100%|██████████| 13000/13000 [02:20<00:00, 93.95it/s]\n"
          ],
          "name": "stderr"
        }
      ]
    },
    {
      "cell_type": "code",
      "metadata": {
        "id": "I_Xfw4E_fQub",
        "colab_type": "code",
        "outputId": "8533927d-baee-4699-eee7-1cb02020fc6c",
        "colab": {
          "base_uri": "https://localhost:8080/",
          "height": 34
        }
      },
      "source": [
        "\n",
        "import gc\n",
        "X_train = np.array(train_img, np.float32) / 255.\n",
        "#X_train = X_train.reshape(X_train.shape[0], 28, 28, 1)\n",
        "\n",
        "\n",
        "del train_img\n",
        "gc.collect()\n",
        "\n",
        "# Next, we will calculate the mean and standard deviation of the images in the training dataset.\n",
        "\n",
        "#%%\n",
        "mean_img = X_train.mean(axis = 0)\n",
        "\n",
        "\n",
        "#%%\n",
        "std_dev = X_train.std(axis = 0)\n",
        "\n",
        "# Next, we will normalize the image data using the following formula: \n",
        "# \n",
        "# <center>** X = (x - mean of x)/(std. deviation of x)**<center/>\n",
        "# \n",
        "# Normalization helps us to standardize the input values. Standardizing the inputs can make training faster and reduce the chances of getting stuck in local minima. Also, we like the features to haves similar ranges so that our gradients don't go out of control.\n",
        "\n",
        "X_norm = (X_train - mean_img)/ std_dev\n",
        "\n",
        "\n",
        "X_norm.shape\n",
        "\n",
        "\n",
        "del X_train\n",
        "gc.collect()\n",
        "\n",
        "# Next we label encode the lables in the train data. Label Encoding is used to transform non-numerical labels or categporical labels to numerical lables. \n",
        "\n",
        "#%%\n"
      ],
      "execution_count": 0,
      "outputs": [
        {
          "output_type": "execute_result",
          "data": {
            "text/plain": [
              "0"
            ]
          },
          "metadata": {
            "tags": []
          },
          "execution_count": 47
        }
      ]
    },
    {
      "cell_type": "code",
      "metadata": {
        "id": "md7mWBUEf4lm",
        "colab_type": "code",
        "outputId": "ed15026c-58a3-45b8-8485-daee43e12ec5",
        "colab": {
          "base_uri": "https://localhost:8080/",
          "height": 251
        }
      },
      "source": [
        "from sklearn.preprocessing import LabelEncoder\n",
        "\n",
        "\n",
        "#%%\n",
        "lb = LabelEncoder()\n",
        "lb.fit(train.Animal.values)\n",
        "y = lb.transform(train.Animal.values)\n",
        "\n",
        "\n",
        "#%%\n",
        "from sklearn.model_selection import train_test_split\n",
        "\n",
        "# Finally, we create the training and validation sets. \n",
        "\n",
        "#%%\n",
        "Xtrain, Xvalid, ytrain, yvalid = train_test_split(X_norm, y, test_size=0.15, random_state=47)\n",
        "\n",
        "\n",
        "#%%\n",
        "del X_norm\n",
        "gc.collect()\n"
      ],
      "execution_count": 0,
      "outputs": [
        {
          "output_type": "error",
          "ename": "NameError",
          "evalue": "ignored",
          "traceback": [
            "\u001b[0;31m---------------------------------------------------------------------------\u001b[0m",
            "\u001b[0;31mNameError\u001b[0m                                 Traceback (most recent call last)",
            "\u001b[0;32m<ipython-input-51-581fa8c5733f>\u001b[0m in \u001b[0;36m<module>\u001b[0;34m()\u001b[0m\n\u001b[1;32m     14\u001b[0m \u001b[0;34m\u001b[0m\u001b[0m\n\u001b[1;32m     15\u001b[0m \u001b[0;31m#%%\u001b[0m\u001b[0;34m\u001b[0m\u001b[0;34m\u001b[0m\u001b[0;34m\u001b[0m\u001b[0m\n\u001b[0;32m---> 16\u001b[0;31m \u001b[0mXtrain\u001b[0m\u001b[0;34m,\u001b[0m \u001b[0mXvalid\u001b[0m\u001b[0;34m,\u001b[0m \u001b[0mytrain\u001b[0m\u001b[0;34m,\u001b[0m \u001b[0myvalid\u001b[0m \u001b[0;34m=\u001b[0m \u001b[0mtrain_test_split\u001b[0m\u001b[0;34m(\u001b[0m\u001b[0mX_norm\u001b[0m\u001b[0;34m,\u001b[0m \u001b[0my\u001b[0m\u001b[0;34m,\u001b[0m \u001b[0mtest_size\u001b[0m\u001b[0;34m=\u001b[0m\u001b[0;36m0.15\u001b[0m\u001b[0;34m,\u001b[0m \u001b[0mrandom_state\u001b[0m\u001b[0;34m=\u001b[0m\u001b[0;36m47\u001b[0m\u001b[0;34m)\u001b[0m\u001b[0;34m\u001b[0m\u001b[0;34m\u001b[0m\u001b[0m\n\u001b[0m\u001b[1;32m     17\u001b[0m \u001b[0;34m\u001b[0m\u001b[0m\n\u001b[1;32m     18\u001b[0m \u001b[0;34m\u001b[0m\u001b[0m\n",
            "\u001b[0;31mNameError\u001b[0m: name 'X_norm' is not defined"
          ]
        }
      ]
    },
    {
      "cell_type": "code",
      "metadata": {
        "id": "VbK4I7_lUjNt",
        "colab_type": "code",
        "outputId": "07a12368-7d56-47f5-dd7f-c0b1186867ca",
        "colab": {
          "base_uri": "https://localhost:8080/",
          "height": 547
        }
      },
      "source": [
        "from keras.utils import np_utils\n",
        "from tensorflow.keras.models import Sequential\n",
        "from tensorflow.keras.layers import Dense, Dropout, Flatten, Conv2D, MaxPooling2D, BatchNormalization\n",
        "from tensorflow.keras.callbacks import EarlyStopping, ModelCheckpoint\n",
        "from tensorflow.keras.applications import VGG16\n",
        "\n",
        "# Next, we will one-hot encode the labels before supplying them to the model. Since label encoding (a.k.a integer encoding) will have a ordinal relationship between them. But for categorical variables where no such ordinall relationship exists, the integer encoding is not enough. In this case, one-hot encoding can be applied to the integer representation, where the integer enocoded variable is removed and a new binary variable is added for each unique integer value.  \n",
        "\n",
        "#### One hot encoding labels.\n",
        "ytrain = np_utils.to_categorical(ytrain)\n",
        "yvalid = np_utils.to_categorical(yvalid)\n",
        "\n",
        "# We will build a model from scratch. We will use a Sequential model, which is a linear stack of layers, to build this model. \n",
        "\n",
        "model = Sequential()\n",
        "model.add(Conv2D(32, kernel_size=(3, 3), activation='relu', input_shape=(224,224,3)))\n",
        "model.add(BatchNormalization())\n",
        "\n",
        "model.add(Conv2D(32, kernel_size=(3, 3), activation='relu'))\n",
        "model.add(BatchNormalization())\n",
        "model.add(MaxPooling2D(pool_size=(2, 2)))\n",
        "model.add(Dropout(0.25))\n",
        "\n",
        "model.add(Conv2D(64, kernel_size=(3, 3), activation='relu'))\n",
        "model.add(BatchNormalization())\n",
        "model.add(Dropout(0.25))\n",
        "\n",
        "model.add(Conv2D(128, kernel_size=(3, 3), activation='relu'))\n",
        "model.add(BatchNormalization())\n",
        "model.add(MaxPooling2D(pool_size=(2, 2)))\n",
        "model.add(Dropout(0.25))\n",
        "\n",
        "\n",
        "model.add(Flatten())\n",
        "\n",
        "\n",
        "\n",
        "model.add(Dense(512, activation='relu'))\n",
        "model.add(BatchNormalization())\n",
        "model.add(Dropout(0.5))\n",
        "\n",
        "model.add(Dense(128, activation='relu'))\n",
        "model.add(BatchNormalization())\n",
        "model.add(Dropout(0.5))\n",
        "\n",
        "model.add(Dense(30, activation='softmax'))\n",
        "\n",
        "\n",
        "#model.add(VGG16())\n",
        "#model.add(BatchNormalization(input_shape = Xtrain.shape[1:]))\n",
        "#model.add(Conv2D(filters=32, kernel_size=(3,3), activation='relu'))\n",
        "#model.add(Conv2D(64, kernel_size=(3,3), activation='relu'))\n",
        "#model.add(Conv2D(64, kernel_size=(3,3), activation='relu'))\n",
        "#model.add(MaxPooling2D(pool_size=(2, 2)))\n",
        "#model.add(Dropout(0.15))\n",
        "#model.add(Conv2D(128, kernel_size=(3, 3), activation= 'softmax'))\n",
        "#model.add(Conv2D(128, kernel_size=(3, 3), activation= 'relu'))\n",
        "#model.add(Conv2D(128, kernel_size=(3, 3), activation= 'relu'))\n",
        "#model.add(MaxPooling2D(pool_size=(2,2)))\n",
        "#model.add(Dropout(0.15))\n",
        "\n",
        "#model.add(Flatten())\n",
        "#model.add(Dropout(0.25))\n",
        "#model.add(Dense(30, activation='softmax'))\n",
        "\n",
        "\n",
        "#%%\n",
        "### Generating a summary of the model.\n",
        "#model.summary()\n",
        "\n",
        "# There are approximately 11 million parameters to train. \n",
        "# Next, we will define the loss function and the optimizer for the model.\n",
        "\n",
        "#%%\n",
        "model.compile(loss='categorical_crossentropy', optimizer='adam', metrics=['accuracy'])\n",
        "\n",
        "\n",
        "#%%\n",
        "#early_stops = EarlyStopping(patience=5, monitor='val_acc')\n",
        "#checkpointer = ModelCheckpoint(filepath='weights.best.eda.hdf5', verbose=1, save_best_only=True)\n",
        "\n",
        "\n",
        "#%%\n",
        "model.fit(Xtrain, ytrain, validation_data=(Xvalid, yvalid), epochs=120, batch_size=120, verbose=1)\n",
        "\n",
        "\n",
        "model.save_weights('weights.best.eda.hdf5')\n",
        "\n",
        "\n"
      ],
      "execution_count": 0,
      "outputs": [
        {
          "output_type": "stream",
          "text": [
            "Train on 11050 samples, validate on 1950 samples\n",
            "Epoch 1/120\n"
          ],
          "name": "stdout"
        },
        {
          "output_type": "error",
          "ename": "InvalidArgumentError",
          "evalue": "ignored",
          "traceback": [
            "\u001b[0;31m---------------------------------------------------------------------------\u001b[0m",
            "\u001b[0;31mInvalidArgumentError\u001b[0m                      Traceback (most recent call last)",
            "\u001b[0;32m<ipython-input-50-b511f4acd601>\u001b[0m in \u001b[0;36m<module>\u001b[0;34m()\u001b[0m\n\u001b[1;32m     82\u001b[0m \u001b[0;34m\u001b[0m\u001b[0m\n\u001b[1;32m     83\u001b[0m \u001b[0;31m#%%\u001b[0m\u001b[0;34m\u001b[0m\u001b[0;34m\u001b[0m\u001b[0;34m\u001b[0m\u001b[0m\n\u001b[0;32m---> 84\u001b[0;31m \u001b[0mmodel\u001b[0m\u001b[0;34m.\u001b[0m\u001b[0mfit\u001b[0m\u001b[0;34m(\u001b[0m\u001b[0mXtrain\u001b[0m\u001b[0;34m,\u001b[0m \u001b[0mytrain\u001b[0m\u001b[0;34m,\u001b[0m \u001b[0mvalidation_data\u001b[0m\u001b[0;34m=\u001b[0m\u001b[0;34m(\u001b[0m\u001b[0mXvalid\u001b[0m\u001b[0;34m,\u001b[0m \u001b[0myvalid\u001b[0m\u001b[0;34m)\u001b[0m\u001b[0;34m,\u001b[0m \u001b[0mepochs\u001b[0m\u001b[0;34m=\u001b[0m\u001b[0;36m120\u001b[0m\u001b[0;34m,\u001b[0m \u001b[0mbatch_size\u001b[0m\u001b[0;34m=\u001b[0m\u001b[0;36m120\u001b[0m\u001b[0;34m,\u001b[0m \u001b[0mverbose\u001b[0m\u001b[0;34m=\u001b[0m\u001b[0;36m1\u001b[0m\u001b[0;34m)\u001b[0m\u001b[0;34m\u001b[0m\u001b[0;34m\u001b[0m\u001b[0m\n\u001b[0m\u001b[1;32m     85\u001b[0m \u001b[0;34m\u001b[0m\u001b[0m\n\u001b[1;32m     86\u001b[0m \u001b[0;34m\u001b[0m\u001b[0m\n",
            "\u001b[0;32m/usr/local/lib/python3.6/dist-packages/tensorflow_core/python/keras/engine/training.py\u001b[0m in \u001b[0;36mfit\u001b[0;34m(self, x, y, batch_size, epochs, verbose, callbacks, validation_split, validation_data, shuffle, class_weight, sample_weight, initial_epoch, steps_per_epoch, validation_steps, validation_freq, max_queue_size, workers, use_multiprocessing, **kwargs)\u001b[0m\n\u001b[1;32m    725\u001b[0m         \u001b[0mmax_queue_size\u001b[0m\u001b[0;34m=\u001b[0m\u001b[0mmax_queue_size\u001b[0m\u001b[0;34m,\u001b[0m\u001b[0;34m\u001b[0m\u001b[0;34m\u001b[0m\u001b[0m\n\u001b[1;32m    726\u001b[0m         \u001b[0mworkers\u001b[0m\u001b[0;34m=\u001b[0m\u001b[0mworkers\u001b[0m\u001b[0;34m,\u001b[0m\u001b[0;34m\u001b[0m\u001b[0;34m\u001b[0m\u001b[0m\n\u001b[0;32m--> 727\u001b[0;31m         use_multiprocessing=use_multiprocessing)\n\u001b[0m\u001b[1;32m    728\u001b[0m \u001b[0;34m\u001b[0m\u001b[0m\n\u001b[1;32m    729\u001b[0m   def evaluate(self,\n",
            "\u001b[0;32m/usr/local/lib/python3.6/dist-packages/tensorflow_core/python/keras/engine/training_arrays.py\u001b[0m in \u001b[0;36mfit\u001b[0;34m(self, model, x, y, batch_size, epochs, verbose, callbacks, validation_split, validation_data, shuffle, class_weight, sample_weight, initial_epoch, steps_per_epoch, validation_steps, validation_freq, **kwargs)\u001b[0m\n\u001b[1;32m    673\u001b[0m         \u001b[0mvalidation_steps\u001b[0m\u001b[0;34m=\u001b[0m\u001b[0mvalidation_steps\u001b[0m\u001b[0;34m,\u001b[0m\u001b[0;34m\u001b[0m\u001b[0;34m\u001b[0m\u001b[0m\n\u001b[1;32m    674\u001b[0m         \u001b[0mvalidation_freq\u001b[0m\u001b[0;34m=\u001b[0m\u001b[0mvalidation_freq\u001b[0m\u001b[0;34m,\u001b[0m\u001b[0;34m\u001b[0m\u001b[0;34m\u001b[0m\u001b[0m\n\u001b[0;32m--> 675\u001b[0;31m         steps_name='steps_per_epoch')\n\u001b[0m\u001b[1;32m    676\u001b[0m \u001b[0;34m\u001b[0m\u001b[0m\n\u001b[1;32m    677\u001b[0m   def evaluate(self,\n",
            "\u001b[0;32m/usr/local/lib/python3.6/dist-packages/tensorflow_core/python/keras/engine/training_arrays.py\u001b[0m in \u001b[0;36mmodel_iteration\u001b[0;34m(model, inputs, targets, sample_weights, batch_size, epochs, verbose, callbacks, val_inputs, val_targets, val_sample_weights, shuffle, initial_epoch, steps_per_epoch, validation_steps, validation_freq, mode, validation_in_fit, prepared_feed_values_from_dataset, steps_name, **kwargs)\u001b[0m\n\u001b[1;32m    392\u001b[0m \u001b[0;34m\u001b[0m\u001b[0m\n\u001b[1;32m    393\u001b[0m         \u001b[0;31m# Get outputs.\u001b[0m\u001b[0;34m\u001b[0m\u001b[0;34m\u001b[0m\u001b[0;34m\u001b[0m\u001b[0m\n\u001b[0;32m--> 394\u001b[0;31m         \u001b[0mbatch_outs\u001b[0m \u001b[0;34m=\u001b[0m \u001b[0mf\u001b[0m\u001b[0;34m(\u001b[0m\u001b[0mins_batch\u001b[0m\u001b[0;34m)\u001b[0m\u001b[0;34m\u001b[0m\u001b[0;34m\u001b[0m\u001b[0m\n\u001b[0m\u001b[1;32m    395\u001b[0m         \u001b[0;32mif\u001b[0m \u001b[0;32mnot\u001b[0m \u001b[0misinstance\u001b[0m\u001b[0;34m(\u001b[0m\u001b[0mbatch_outs\u001b[0m\u001b[0;34m,\u001b[0m \u001b[0mlist\u001b[0m\u001b[0;34m)\u001b[0m\u001b[0;34m:\u001b[0m\u001b[0;34m\u001b[0m\u001b[0;34m\u001b[0m\u001b[0m\n\u001b[1;32m    396\u001b[0m           \u001b[0mbatch_outs\u001b[0m \u001b[0;34m=\u001b[0m \u001b[0;34m[\u001b[0m\u001b[0mbatch_outs\u001b[0m\u001b[0;34m]\u001b[0m\u001b[0;34m\u001b[0m\u001b[0;34m\u001b[0m\u001b[0m\n",
            "\u001b[0;32m/usr/local/lib/python3.6/dist-packages/tensorflow_core/python/keras/backend.py\u001b[0m in \u001b[0;36m__call__\u001b[0;34m(self, inputs)\u001b[0m\n\u001b[1;32m   3474\u001b[0m \u001b[0;34m\u001b[0m\u001b[0m\n\u001b[1;32m   3475\u001b[0m     fetched = self._callable_fn(*array_vals,\n\u001b[0;32m-> 3476\u001b[0;31m                                 run_metadata=self.run_metadata)\n\u001b[0m\u001b[1;32m   3477\u001b[0m     \u001b[0mself\u001b[0m\u001b[0;34m.\u001b[0m\u001b[0m_call_fetch_callbacks\u001b[0m\u001b[0;34m(\u001b[0m\u001b[0mfetched\u001b[0m\u001b[0;34m[\u001b[0m\u001b[0;34m-\u001b[0m\u001b[0mlen\u001b[0m\u001b[0;34m(\u001b[0m\u001b[0mself\u001b[0m\u001b[0;34m.\u001b[0m\u001b[0m_fetches\u001b[0m\u001b[0;34m)\u001b[0m\u001b[0;34m:\u001b[0m\u001b[0;34m]\u001b[0m\u001b[0;34m)\u001b[0m\u001b[0;34m\u001b[0m\u001b[0;34m\u001b[0m\u001b[0m\n\u001b[1;32m   3478\u001b[0m     output_structure = nest.pack_sequence_as(\n",
            "\u001b[0;32m/usr/local/lib/python3.6/dist-packages/tensorflow_core/python/client/session.py\u001b[0m in \u001b[0;36m__call__\u001b[0;34m(self, *args, **kwargs)\u001b[0m\n\u001b[1;32m   1470\u001b[0m         ret = tf_session.TF_SessionRunCallable(self._session._session,\n\u001b[1;32m   1471\u001b[0m                                                \u001b[0mself\u001b[0m\u001b[0;34m.\u001b[0m\u001b[0m_handle\u001b[0m\u001b[0;34m,\u001b[0m \u001b[0margs\u001b[0m\u001b[0;34m,\u001b[0m\u001b[0;34m\u001b[0m\u001b[0;34m\u001b[0m\u001b[0m\n\u001b[0;32m-> 1472\u001b[0;31m                                                run_metadata_ptr)\n\u001b[0m\u001b[1;32m   1473\u001b[0m         \u001b[0;32mif\u001b[0m \u001b[0mrun_metadata\u001b[0m\u001b[0;34m:\u001b[0m\u001b[0;34m\u001b[0m\u001b[0;34m\u001b[0m\u001b[0m\n\u001b[1;32m   1474\u001b[0m           \u001b[0mproto_data\u001b[0m \u001b[0;34m=\u001b[0m \u001b[0mtf_session\u001b[0m\u001b[0;34m.\u001b[0m\u001b[0mTF_GetBuffer\u001b[0m\u001b[0;34m(\u001b[0m\u001b[0mrun_metadata_ptr\u001b[0m\u001b[0;34m)\u001b[0m\u001b[0;34m\u001b[0m\u001b[0;34m\u001b[0m\u001b[0m\n",
            "\u001b[0;31mInvalidArgumentError\u001b[0m: 2 root error(s) found.\n  (0) Invalid argument: logits and labels must be broadcastable: logits_size=[120,30] labels_size=[240,30]\n\t [[{{node loss_12/dense_38_loss/softmax_cross_entropy_with_logits}}]]\n\t [[loss_12/mul/_3121]]\n  (1) Invalid argument: logits and labels must be broadcastable: logits_size=[120,30] labels_size=[240,30]\n\t [[{{node loss_12/dense_38_loss/softmax_cross_entropy_with_logits}}]]\n0 successful operations.\n0 derived errors ignored."
          ]
        }
      ]
    },
    {
      "cell_type": "code",
      "metadata": {
        "id": "wuTY7IedmcA6",
        "colab_type": "code",
        "outputId": "0b777b3f-9318-4c68-a93e-956a03c7930a",
        "colab": {
          "base_uri": "https://localhost:8080/",
          "height": 34
        }
      },
      "source": [
        "test_img = []\n",
        "for img_path in tqdm(test.Image_id.values):\n",
        "    test_img.append(read_img(TEST_PATH + img_path))\n",
        "\n",
        "\n",
        "X_test = np.array(test_img, np.float32)/255.\n",
        "\n",
        "\n",
        "del test_img\n",
        "gc.collect()\n",
        "\n",
        "X_norm_test = (X_test - mean_img) / std_dev\n",
        "\n",
        "\n",
        "del X_test\n",
        "gc.collect()\n",
        "\n",
        "y_test_pred = model.predict(X_norm_test)\n",
        "\n",
        "\n"
      ],
      "execution_count": 0,
      "outputs": [
        {
          "output_type": "stream",
          "text": [
            "100%|██████████| 6000/6000 [01:10<00:00, 85.08it/s]\n"
          ],
          "name": "stderr"
        }
      ]
    },
    {
      "cell_type": "code",
      "metadata": {
        "id": "gNG5yX2pgf6W",
        "colab_type": "code",
        "colab": {}
      },
      "source": [
        "### Creating the submission file\n",
        "subm = pd.DataFrame()\n",
        "subm['image_id'] = test.Image_id\n",
        "label_df = pd.DataFrame(data=y_test_pred, columns=lb.classes_)\n",
        "\n",
        "subm = pd.concat([subm, label_df], axis=1)\n",
        "\n",
        "\n",
        "subm.to_csv('submission.csv', index=False)\n",
        "\n"
      ],
      "execution_count": 0,
      "outputs": []
    }
  ]
}