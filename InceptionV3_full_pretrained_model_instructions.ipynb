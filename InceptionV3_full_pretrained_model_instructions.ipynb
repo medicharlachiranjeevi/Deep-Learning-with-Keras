{
  "nbformat": 4,
  "nbformat_minor": 0,
  "metadata": {
    "kernelspec": {
      "name": "python3",
      "display_name": "Python 3"
    },
    "language_info": {
      "name": "python",
      "version": "3.6.4",
      "mimetype": "text/x-python",
      "codemirror_mode": {
        "name": "ipython",
        "version": 3
      },
      "pygments_lexer": "ipython3",
      "nbconvert_exporter": "python",
      "file_extension": ".py"
    },
    "colab": {
      "name": "InceptionV3 - full pretrained model instructions.ipynb",
      "provenance": [],
      "toc_visible": true,
      "machine_shape": "hm",
      "include_colab_link": true
    },
    "accelerator": "TPU"
  },
  "cells": [
    {
      "cell_type": "markdown",
      "metadata": {
        "id": "view-in-github",
        "colab_type": "text"
      },
      "source": [
        "<a href=\"https://colab.research.google.com/github/medicharlachiranjeevi/Deep-Learning-with-Keras/blob/master/InceptionV3_full_pretrained_model_instructions.ipynb\" target=\"_parent\"><img src=\"https://colab.research.google.com/assets/colab-badge.svg\" alt=\"Open In Colab\"/></a>"
      ]
    },
    {
      "cell_type": "code",
      "metadata": {
        "id": "C-goX7Rj_oF6",
        "colab_type": "code",
        "outputId": "f957ff2d-b9d8-4439-adf6-9a42a50db320",
        "colab": {
          "base_uri": "https://localhost:8080/",
          "height": 54
        }
      },
      "source": [
        "from google.colab import drive\n",
        "drive.mount('/content/drive')"
      ],
      "execution_count": 7,
      "outputs": [
        {
          "output_type": "stream",
          "text": [
            "Drive already mounted at /content/drive; to attempt to forcibly remount, call drive.mount(\"/content/drive\", force_remount=True).\n"
          ],
          "name": "stdout"
        }
      ]
    },
    {
      "cell_type": "code",
      "metadata": {
        "id": "76Edja_Z_xbG",
        "colab_type": "code",
        "colab": {}
      },
      "source": [
        "#!unzip \"/content/drive/My Drive/dog-breed-identification.zip\"\n",
        "#!unzip train.zip \n",
        "#!unzip test.zip"
      ],
      "execution_count": 0,
      "outputs": []
    },
    {
      "cell_type": "code",
      "metadata": {
        "_uuid": "0db5ce184df4b269259a2b6270b01226da184b72",
        "_cell_guid": "7c2281a5-4dbb-4c86-b151-03ed3ba3094e",
        "trusted": true,
        "id": "syCGjw--4G3c",
        "colab_type": "code",
        "colab": {}
      },
      "source": [
        "import warnings\n",
        "warnings.filterwarnings('ignore')\n",
        "\n",
        "import numpy as np \n",
        "import pandas as pd\n",
        "import matplotlib.pyplot as plt\n",
        "\n",
        "from keras.preprocessing.image import ImageDataGenerator\n",
        "from keras.preprocessing.image import img_to_array\n",
        "from keras.preprocessing.image import load_img\n",
        "import cv2\n",
        "\n",
        "from keras.applications import inception_v3\n",
        "from keras.applications.inception_v3 import InceptionV3\n",
        "from keras.applications.inception_v3 import preprocess_input as inception_v3_preprocessor\n",
        "\n",
        "from keras.layers import Dense, GlobalAveragePooling2D\n",
        "from keras.models import Model\n",
        "\n",
        "from keras.optimizers import Adam\n",
        "from keras.metrics import categorical_crossentropy\n",
        "\n",
        "from sklearn.model_selection import train_test_split\n",
        "\n",
        "from tqdm import tqdm\n",
        "\n",
        "from os import makedirs\n",
        "from os.path import expanduser, exists, join\n"
      ],
      "execution_count": 0,
      "outputs": []
    },
    {
      "cell_type": "code",
      "metadata": {
        "trusted": true,
        "_uuid": "108e0e118dcd014357b3f81e51870578be0b8298",
        "id": "PSEO4sfj4G3l",
        "colab_type": "code",
        "colab": {}
      },
      "source": [
        "# Set the train and test folder paths.\n",
        "# NOTE: train and test are now in the 'dog-breed-identification' folder since the Keras Pretrained Models data/directory is added\n",
        "train_folder = 'train/'\n",
        "test_folder = 'test/'"
      ],
      "execution_count": 0,
      "outputs": []
    },
    {
      "cell_type": "code",
      "metadata": {
        "_uuid": "5e37d593c908f345385cfb27bb99a3e330490870",
        "_cell_guid": "09b158c8-d0d9-40de-9598-42a384d88700",
        "trusted": true,
        "id": "byiY_LSU4G3o",
        "colab_type": "code",
        "outputId": "0125557d-ebc6-4202-cea5-6bebbf2bc2f5",
        "colab": {
          "base_uri": "https://localhost:8080/",
          "height": 204
        }
      },
      "source": [
        "# get the dog image ids and labels/breed\n",
        "train_dogs = pd.read_csv('labels.csv')\n",
        "train_dogs.head()"
      ],
      "execution_count": 11,
      "outputs": [
        {
          "output_type": "execute_result",
          "data": {
            "text/html": [
              "<div>\n",
              "<style scoped>\n",
              "    .dataframe tbody tr th:only-of-type {\n",
              "        vertical-align: middle;\n",
              "    }\n",
              "\n",
              "    .dataframe tbody tr th {\n",
              "        vertical-align: top;\n",
              "    }\n",
              "\n",
              "    .dataframe thead th {\n",
              "        text-align: right;\n",
              "    }\n",
              "</style>\n",
              "<table border=\"1\" class=\"dataframe\">\n",
              "  <thead>\n",
              "    <tr style=\"text-align: right;\">\n",
              "      <th></th>\n",
              "      <th>id</th>\n",
              "      <th>breed</th>\n",
              "    </tr>\n",
              "  </thead>\n",
              "  <tbody>\n",
              "    <tr>\n",
              "      <th>0</th>\n",
              "      <td>000bec180eb18c7604dcecc8fe0dba07</td>\n",
              "      <td>boston_bull</td>\n",
              "    </tr>\n",
              "    <tr>\n",
              "      <th>1</th>\n",
              "      <td>001513dfcb2ffafc82cccf4d8bbaba97</td>\n",
              "      <td>dingo</td>\n",
              "    </tr>\n",
              "    <tr>\n",
              "      <th>2</th>\n",
              "      <td>001cdf01b096e06d78e9e5112d419397</td>\n",
              "      <td>pekinese</td>\n",
              "    </tr>\n",
              "    <tr>\n",
              "      <th>3</th>\n",
              "      <td>00214f311d5d2247d5dfe4fe24b2303d</td>\n",
              "      <td>bluetick</td>\n",
              "    </tr>\n",
              "    <tr>\n",
              "      <th>4</th>\n",
              "      <td>0021f9ceb3235effd7fcde7f7538ed62</td>\n",
              "      <td>golden_retriever</td>\n",
              "    </tr>\n",
              "  </tbody>\n",
              "</table>\n",
              "</div>"
            ],
            "text/plain": [
              "                                 id             breed\n",
              "0  000bec180eb18c7604dcecc8fe0dba07       boston_bull\n",
              "1  001513dfcb2ffafc82cccf4d8bbaba97             dingo\n",
              "2  001cdf01b096e06d78e9e5112d419397          pekinese\n",
              "3  00214f311d5d2247d5dfe4fe24b2303d          bluetick\n",
              "4  0021f9ceb3235effd7fcde7f7538ed62  golden_retriever"
            ]
          },
          "metadata": {
            "tags": []
          },
          "execution_count": 11
        }
      ]
    },
    {
      "cell_type": "code",
      "metadata": {
        "_uuid": "2e04915f050490c15a6a7d619df551a7ea376d3f",
        "_cell_guid": "1637b159-1b3c-45f4-888b-7b315892c3c1",
        "trusted": true,
        "id": "ABQuvXAO4G3r",
        "colab_type": "code",
        "colab": {}
      },
      "source": [
        "# Take a look at the class/breed distribution\n",
        "#ax=pd.value_counts(train_dogs['breed'],ascending=True).plot(kind='barh',\n",
        "#                                                       fontsize=\"40\",\n",
        "#                                                       title=\"Class Distribution\",\n",
        "#                                                       figsize=(50,100))\n",
        "#ax.set(xlabel=\"Images per class\", ylabel=\"Classes\")\n",
        "#ax.xaxis.label.set_size(40)\n",
        "#ax.yaxis.label.set_size(40)\n",
        "#ax.title.set_size(60)\n",
        "#plt.show()"
      ],
      "execution_count": 0,
      "outputs": []
    },
    {
      "cell_type": "code",
      "metadata": {
        "_uuid": "cae6738d0d98d20556912d10255bdde569aa1cfb",
        "_cell_guid": "b32d1f9f-e3c6-4b1d-8eee-72b288e4e6e2",
        "trusted": true,
        "id": "iHss85fG4G3u",
        "colab_type": "code",
        "colab": {
          "base_uri": "https://localhost:8080/",
          "height": 34
        },
        "outputId": "9c4d061f-11d9-4904-f229-e83f37afd7b3"
      },
      "source": [
        "# Get the top 20 breeds which is what we use in this notebook\n",
        "top_breeds = sorted(list(train_dogs['breed'].value_counts().head(20).index))\n",
        "#train_dogs = train_dogs[train_dogs['breed']\n",
        "len(set(train_dogs['breed']))"
      ],
      "execution_count": 13,
      "outputs": [
        {
          "output_type": "execute_result",
          "data": {
            "text/plain": [
              "120"
            ]
          },
          "metadata": {
            "tags": []
          },
          "execution_count": 13
        }
      ]
    },
    {
      "cell_type": "code",
      "metadata": {
        "_uuid": "c08a93a1c62dd083a80d1edcbaf5fcd942c34448",
        "_cell_guid": "5f30638e-2c2f-41bf-b002-340da8f4ba19",
        "trusted": true,
        "id": "FnsRKUsZ4G3y",
        "colab_type": "code",
        "outputId": "ef2c74c9-3d61-415b-a989-b9344124a3ba",
        "colab": {
          "base_uri": "https://localhost:8080/",
          "height": 71
        }
      },
      "source": [
        "# Let's see what breeds are the top 20\n",
        "print(top_breeds)\n",
        "train_dogs.shape"
      ],
      "execution_count": 14,
      "outputs": [
        {
          "output_type": "stream",
          "text": [
            "['afghan_hound', 'airedale', 'australian_terrier', 'basenji', 'beagle', 'bernese_mountain_dog', 'blenheim_spaniel', 'cairn', 'entlebucher', 'great_pyrenees', 'irish_wolfhound', 'japanese_spaniel', 'leonberg', 'maltese_dog', 'miniature_pinscher', 'pomeranian', 'samoyed', 'scottish_deerhound', 'shih-tzu', 'tibetan_terrier']\n"
          ],
          "name": "stdout"
        },
        {
          "output_type": "execute_result",
          "data": {
            "text/plain": [
              "(10222, 2)"
            ]
          },
          "metadata": {
            "tags": []
          },
          "execution_count": 14
        }
      ]
    },
    {
      "cell_type": "code",
      "metadata": {
        "_uuid": "9860f217cdf7a476b5e0d61576505bae8cf48717",
        "_cell_guid": "84219bf4-4842-4000-ae16-733f02ef82ec",
        "trusted": true,
        "id": "Zitu4MvE4G30",
        "colab_type": "code",
        "colab": {}
      },
      "source": [
        "# Get the labels of the top 20\n",
        "target_labels = train_dogs['breed']"
      ],
      "execution_count": 0,
      "outputs": []
    },
    {
      "cell_type": "code",
      "metadata": {
        "_uuid": "afc86864d10ae8766a3ec53d68183a7b0afec300",
        "_cell_guid": "c4292d56-49e7-4c13-8c07-58780c342623",
        "trusted": true,
        "id": "MFwQh25p4G33",
        "colab_type": "code",
        "colab": {}
      },
      "source": [
        "# One hot code the labels - need this for the model\n",
        "one_hot = pd.get_dummies(target_labels, sparse = True)\n",
        "one_hot_labels = np.asarray(one_hot)"
      ],
      "execution_count": 0,
      "outputs": []
    },
    {
      "cell_type": "code",
      "metadata": {
        "_uuid": "ba2fddff7de9c94bf6035c92c477f00812ea73f4",
        "_cell_guid": "cb927f91-febc-405e-ac8b-3539afe52532",
        "trusted": true,
        "id": "wIpTIb-v4G37",
        "colab_type": "code",
        "outputId": "5d6feae2-35b1-4561-8527-5b63c66ea04a",
        "colab": {
          "base_uri": "https://localhost:8080/",
          "height": 204
        }
      },
      "source": [
        "# add the actual path name of the pics to the data set\n",
        "train_dogs['image_path'] = train_dogs.apply( lambda x: (train_folder + x[\"id\"] + \".jpg\" ), axis=1)\n",
        "train_dogs.head()"
      ],
      "execution_count": 17,
      "outputs": [
        {
          "output_type": "execute_result",
          "data": {
            "text/html": [
              "<div>\n",
              "<style scoped>\n",
              "    .dataframe tbody tr th:only-of-type {\n",
              "        vertical-align: middle;\n",
              "    }\n",
              "\n",
              "    .dataframe tbody tr th {\n",
              "        vertical-align: top;\n",
              "    }\n",
              "\n",
              "    .dataframe thead th {\n",
              "        text-align: right;\n",
              "    }\n",
              "</style>\n",
              "<table border=\"1\" class=\"dataframe\">\n",
              "  <thead>\n",
              "    <tr style=\"text-align: right;\">\n",
              "      <th></th>\n",
              "      <th>id</th>\n",
              "      <th>breed</th>\n",
              "      <th>image_path</th>\n",
              "    </tr>\n",
              "  </thead>\n",
              "  <tbody>\n",
              "    <tr>\n",
              "      <th>0</th>\n",
              "      <td>000bec180eb18c7604dcecc8fe0dba07</td>\n",
              "      <td>boston_bull</td>\n",
              "      <td>train/000bec180eb18c7604dcecc8fe0dba07.jpg</td>\n",
              "    </tr>\n",
              "    <tr>\n",
              "      <th>1</th>\n",
              "      <td>001513dfcb2ffafc82cccf4d8bbaba97</td>\n",
              "      <td>dingo</td>\n",
              "      <td>train/001513dfcb2ffafc82cccf4d8bbaba97.jpg</td>\n",
              "    </tr>\n",
              "    <tr>\n",
              "      <th>2</th>\n",
              "      <td>001cdf01b096e06d78e9e5112d419397</td>\n",
              "      <td>pekinese</td>\n",
              "      <td>train/001cdf01b096e06d78e9e5112d419397.jpg</td>\n",
              "    </tr>\n",
              "    <tr>\n",
              "      <th>3</th>\n",
              "      <td>00214f311d5d2247d5dfe4fe24b2303d</td>\n",
              "      <td>bluetick</td>\n",
              "      <td>train/00214f311d5d2247d5dfe4fe24b2303d.jpg</td>\n",
              "    </tr>\n",
              "    <tr>\n",
              "      <th>4</th>\n",
              "      <td>0021f9ceb3235effd7fcde7f7538ed62</td>\n",
              "      <td>golden_retriever</td>\n",
              "      <td>train/0021f9ceb3235effd7fcde7f7538ed62.jpg</td>\n",
              "    </tr>\n",
              "  </tbody>\n",
              "</table>\n",
              "</div>"
            ],
            "text/plain": [
              "                                 id  ...                                  image_path\n",
              "0  000bec180eb18c7604dcecc8fe0dba07  ...  train/000bec180eb18c7604dcecc8fe0dba07.jpg\n",
              "1  001513dfcb2ffafc82cccf4d8bbaba97  ...  train/001513dfcb2ffafc82cccf4d8bbaba97.jpg\n",
              "2  001cdf01b096e06d78e9e5112d419397  ...  train/001cdf01b096e06d78e9e5112d419397.jpg\n",
              "3  00214f311d5d2247d5dfe4fe24b2303d  ...  train/00214f311d5d2247d5dfe4fe24b2303d.jpg\n",
              "4  0021f9ceb3235effd7fcde7f7538ed62  ...  train/0021f9ceb3235effd7fcde7f7538ed62.jpg\n",
              "\n",
              "[5 rows x 3 columns]"
            ]
          },
          "metadata": {
            "tags": []
          },
          "execution_count": 17
        }
      ]
    },
    {
      "cell_type": "code",
      "metadata": {
        "_uuid": "34d6bdfa321367b72c50893622ab1c6c85a65282",
        "_cell_guid": "0373cbe7-a89f-4dbe-bb9d-717ec1bca6ef",
        "trusted": true,
        "id": "5I-xHDFz4G3-",
        "colab_type": "code",
        "colab": {}
      },
      "source": [
        "# Convert the images to arrays which is used for the model. Inception uses image sizes of 299 x 299\n",
        "train_data = np.array([img_to_array(load_img(img, target_size=(299, 299))) for img in train_dogs['image_path'].values.tolist()]).astype('float32')"
      ],
      "execution_count": 0,
      "outputs": []
    },
    {
      "cell_type": "code",
      "metadata": {
        "_uuid": "b7656f2304bd2ce220fbcdfcc23396270b1c4fec",
        "_cell_guid": "c26e6830-8b1d-4d7f-929d-6b72be3a5b04",
        "trusted": true,
        "id": "ca-yqm-34G4B",
        "colab_type": "code",
        "colab": {}
      },
      "source": [
        "# Split the data into train and validation. The stratify parm will insure  train and validation  \n",
        "# will have the same proportions of class labels as the input dataset.\n",
        "x_train, x_validation, y_train, y_validation = train_test_split(train_data, target_labels, test_size=0.2, stratify=np.array(target_labels), random_state=100)"
      ],
      "execution_count": 0,
      "outputs": []
    },
    {
      "cell_type": "code",
      "metadata": {
        "_uuid": "ebac7b3a418fff56bbb6f8a26c207154ea88dbdb",
        "_cell_guid": "7d1ba098-b2ba-4dce-8be3-a13c0a30975e",
        "trusted": true,
        "id": "aIYE5bJE4G4E",
        "colab_type": "code",
        "outputId": "36858c5d-8225-4716-9f66-5b41dd7ef69b",
        "colab": {
          "base_uri": "https://localhost:8080/",
          "height": 51
        }
      },
      "source": [
        "# Need to know how many rows in each of the train/test split so we can \n",
        "# calculate steps_per_epoch and validatoin_steps for the model.fit_generator\n",
        "print ('x_train shape = ', x_train.shape)\n",
        "print ('x_validation shape = ', x_validation.shape)"
      ],
      "execution_count": 20,
      "outputs": [
        {
          "output_type": "stream",
          "text": [
            "x_train shape =  (8177, 299, 299, 3)\n",
            "x_validation shape =  (2045, 299, 299, 3)\n"
          ],
          "name": "stdout"
        }
      ]
    },
    {
      "cell_type": "code",
      "metadata": {
        "_uuid": "1f391c0eed51e48bc54746a89ecab9354f507b5a",
        "_cell_guid": "311603a2-e6c2-469d-8783-7c8b7a3b2356",
        "trusted": true,
        "id": "bC1gyC8G4G4H",
        "colab_type": "code",
        "outputId": "a86c5ba8-23f4-4367-f4f2-f3fdbdfa587f",
        "colab": {
          "base_uri": "https://localhost:8080/",
          "height": 407
        }
      },
      "source": [
        "# Calculate the value counts for train and validation data and plot to show a good stratify\n",
        "# the plot should show an equal percentage split for each class\n",
        "data = y_train.value_counts().sort_index().to_frame()   # this creates the data frame with train numbers\n",
        "data.columns = ['train']   # give the column a name\n",
        "data['validation'] = y_validation.value_counts().sort_index().to_frame()   # add the validation numbers\n",
        "new_plot = data[['train','validation']].sort_values(['train']+['validation'], ascending=False)   # sort the data\n",
        "new_plot.plot(kind='bar', stacked=True)\n",
        "plt.show()"
      ],
      "execution_count": 21,
      "outputs": [
        {
          "output_type": "display_data",
          "data": {
            "image/png": "[encoded data removed]",
            "text/plain": [
              "<Figure size 432x288 with 1 Axes>"
            ]
          },
          "metadata": {
            "tags": []
          }
        }
      ]
    },
    {
      "cell_type": "code",
      "metadata": {
        "_uuid": "d5b763c0ff358428e9cb0bb921cad1bddde0d9f3",
        "_cell_guid": "88750c7e-16fa-434a-85d1-8006080794ff",
        "trusted": true,
        "id": "pWSVBnkb4G4K",
        "colab_type": "code",
        "colab": {}
      },
      "source": [
        "# Need to convert the train and validation labels into one hot encoded format\n",
        "y_train = pd.get_dummies(y_train.reset_index(drop=True)).as_matrix()\n",
        "y_validation = pd.get_dummies(y_validation.reset_index(drop=True)).as_matrix()"
      ],
      "execution_count": 0,
      "outputs": []
    },
    {
      "cell_type": "code",
      "metadata": {
        "_uuid": "eaaa2b2a51b7369c69d258b4343fe553af06bc94",
        "_cell_guid": "48f96e48-89eb-4c35-82be-d8c323d1be59",
        "trusted": true,
        "id": "LY2ibpKA4G4N",
        "colab_type": "code",
        "colab": {}
      },
      "source": [
        "# Create train generator.\n",
        "train_datagen = ImageDataGenerator(rescale=1./255, \n",
        "                                   rotation_range=30, \n",
        "                                   # zoom_range = 0.3, \n",
        "                                   width_shift_range=0.2,\n",
        "                                   height_shift_range=0.2, \n",
        "                                   horizontal_flip = 'true')\n",
        "train_generator = train_datagen.flow(x_train, y_train, shuffle=False, batch_size=10, seed=10)"
      ],
      "execution_count": 0,
      "outputs": []
    },
    {
      "cell_type": "code",
      "metadata": {
        "_uuid": "68d62b69efc7206c67ca5a5684c34871e8db9105",
        "_cell_guid": "e0348b2e-1809-4080-8dca-00189ef5c563",
        "trusted": true,
        "id": "9VZkTYL-4G4Q",
        "colab_type": "code",
        "colab": {}
      },
      "source": [
        "# Create validation generator\n",
        "val_datagen = ImageDataGenerator(rescale = 1./255)\n",
        "val_generator = train_datagen.flow(x_validation, y_validation, shuffle=False, batch_size=10, seed=10)"
      ],
      "execution_count": 0,
      "outputs": []
    },
    {
      "cell_type": "code",
      "metadata": {
        "_uuid": "adb7744ebe5266dc924401fa6e597648a43635d4",
        "_cell_guid": "eb433527-0ea9-4692-97d0-acabb33789fd",
        "trusted": true,
        "id": "o5IuIDNQ4G4U",
        "colab_type": "code",
        "colab": {}
      },
      "source": [
        "# Get the InceptionV3 model so we can do transfer learning\n",
        "base_model = InceptionV3(weights = 'imagenet', include_top = False, input_shape=(299, 299, 3))"
      ],
      "execution_count": 0,
      "outputs": []
    },
    {
      "cell_type": "code",
      "metadata": {
        "_uuid": "910cb3ecf71b921a9f52f2f5de29b5c76f6a7a49",
        "_cell_guid": "f81eaa77-9344-4b13-9dcb-a085577fb560",
        "trusted": true,
        "id": "jx7V6bpT4G4X",
        "colab_type": "code",
        "colab": {}
      },
      "source": [
        "# Add a global spatial average pooling layer\n",
        "x = base_model.output\n",
        "x = GlobalAveragePooling2D()(x)"
      ],
      "execution_count": 0,
      "outputs": []
    },
    {
      "cell_type": "code",
      "metadata": {
        "_uuid": "560b5f819e44107a9b582ebea0d1a7155b229879",
        "_cell_guid": "3d059107-afff-473a-94d3-dd7e0978297a",
        "trusted": true,
        "id": "6-SbQp6f4G4d",
        "colab_type": "code",
        "colab": {}
      },
      "source": [
        "# Add a fully-connected layer and a logistic layer with 20 classes \n",
        "#(there will be 120 classes for the final submission)\n",
        "x = Dense(512, activation='relu')(x)\n",
        "predictions = Dense(120, activation='softmax')(x)"
      ],
      "execution_count": 0,
      "outputs": []
    },
    {
      "cell_type": "code",
      "metadata": {
        "_uuid": "968dba5601962813ffe60ef6c690891ed0ece193",
        "_cell_guid": "398add4d-18ae-4465-865d-d6701c94887b",
        "trusted": false,
        "id": "YWCJXx4q4G4g",
        "colab_type": "code",
        "colab": {}
      },
      "source": [
        "# The model we will train\n",
        "model = Model(inputs = base_model.input, outputs = predictions)"
      ],
      "execution_count": 0,
      "outputs": []
    },
    {
      "cell_type": "code",
      "metadata": {
        "_uuid": "39fb1c54573754f7d54a622d3f8cbae782194eef",
        "_cell_guid": "a415a4c2-ff07-4090-9d42-c8c88e8b8e15",
        "trusted": false,
        "id": "iYDAV2uv4G4j",
        "colab_type": "code",
        "colab": {}
      },
      "source": [
        "# first: train only the top layers i.e. freeze all convolutional InceptionV3 layers\n",
        "for layer in base_model.layers:\n",
        "    layer.trainable = False"
      ],
      "execution_count": 0,
      "outputs": []
    },
    {
      "cell_type": "code",
      "metadata": {
        "_uuid": "698a5859fbcd69ab763b56c86df6ce5a07d72878",
        "_cell_guid": "1c3058ce-debe-43f3-8ab6-3209bd3c9cc1",
        "trusted": false,
        "id": "DwTL4vBh4G4m",
        "colab_type": "code",
        "colab": {}
      },
      "source": [
        "# Compile with Adam\n",
        "model.compile(Adam(lr=.0001), loss='categorical_crossentropy', metrics=['accuracy'])"
      ],
      "execution_count": 0,
      "outputs": []
    },
    {
      "cell_type": "code",
      "metadata": {
        "_uuid": "7eaa32ed90e9b65d4f9f05d21f77f312e70a2d5a",
        "_cell_guid": "447bef61-b84d-46ea-9409-9fd8376f9031",
        "trusted": false,
        "id": "VIGvV4rm4G4o",
        "colab_type": "code",
        "outputId": "cce0f3ee-457a-43c5-ad7b-2d2e1c1edcc0",
        "colab": {
          "base_uri": "https://localhost:8080/",
          "height": 139
        }
      },
      "source": [
        "# Train the model\n",
        "model.fit_generator(train_generator,\n",
        "                      steps_per_epoch = 175,\n",
        "                      validation_data = val_generator,\n",
        "                      validation_steps = 44,\n",
        "                      epochs = 20,\n",
        "                      verbose = 1)"
      ],
      "execution_count": 0,
      "outputs": [
        {
          "output_type": "stream",
          "text": [
            "Epoch 1/20\n",
            "175/175 [==============================] - 85s 486ms/step - loss: 4.5880 - acc: 0.0651 - val_loss: 4.0466 - val_acc: 0.2659\n",
            "Epoch 2/20\n",
            "175/175 [==============================] - 80s 458ms/step - loss: 3.9891 - acc: 0.2240 - val_loss: 3.0420 - val_acc: 0.5705\n",
            "Epoch 3/20\n",
            "167/175 [===========================>..] - ETA: 2s - loss: 3.3164 - acc: 0.3617"
          ],
          "name": "stdout"
        }
      ]
    },
    {
      "cell_type": "code",
      "metadata": {
        "_uuid": "b4f14972b4f4ff443182ea5598d1d5b2437a0040",
        "_cell_guid": "eace05c0-ddcc-498c-948c-a5af2096f230",
        "trusted": true,
        "id": "clqze6Mp4G4u",
        "colab_type": "code",
        "colab": {}
      },
      "source": [
        "# Use the sample submission file to set up the test data - x_test\n",
        "test_data = pd.read_csv('sample_submission.csv')"
      ],
      "execution_count": 0,
      "outputs": []
    },
    {
      "cell_type": "code",
      "metadata": {
        "id": "dp4gfViCutsi",
        "colab_type": "code",
        "colab": {}
      },
      "source": [
        "del x_train\n",
        "import gc\n",
        "gc.collect()"
      ],
      "execution_count": 0,
      "outputs": []
    },
    {
      "cell_type": "code",
      "metadata": {
        "_uuid": "85b9b89ba97116b46e75a38ed4a9c029f3cb5ffc",
        "_cell_guid": "15d95877-f528-4913-9aee-858c64638cec",
        "trusted": true,
        "id": "sigBJbvz4G4w",
        "colab_type": "code",
        "colab": {}
      },
      "source": [
        "# Creae the x_test\n",
        "x_test = []\n",
        "for i in tqdm(test_data['id'].values):\n",
        "     img = cv2.imread('test/{}.jpg'.format(i))\n",
        "     x_test.append(cv2.resize(img, (299, 299)))"
      ],
      "execution_count": 0,
      "outputs": []
    },
    {
      "cell_type": "code",
      "metadata": {
        "_uuid": "ffd2d951e6c8634eec64bade5e7d102c4de262b4",
        "_cell_guid": "43f974b9-48f9-4c71-859f-f18ace3245a5",
        "trusted": true,
        "id": "YcauBx064G4z",
        "colab_type": "code",
        "colab": {}
      },
      "source": [
        "# Make it an array\n",
        "x_test = np.array(x_test, np.float32) / 255."
      ],
      "execution_count": 0,
      "outputs": []
    },
    {
      "cell_type": "code",
      "metadata": {
        "_uuid": "5efab7f2ca3979cfa8d613df7e13046190e60f29",
        "_cell_guid": "7c8d232c-731f-400d-a98d-02348747b0ee",
        "trusted": false,
        "id": "WgHnzqPG4G42",
        "colab_type": "code",
        "colab": {}
      },
      "source": [
        "# Predict x_test\n",
        "predictions = model.predict(x_test, verbose=2)"
      ],
      "execution_count": 0,
      "outputs": []
    },
    {
      "cell_type": "code",
      "metadata": {
        "_uuid": "94faeb8ab0ef0e2a7739f9a21884bc5d3fe015c4",
        "_cell_guid": "f53435ce-ba23-4684-9937-7d29246b6da4",
        "trusted": false,
        "id": "VIXQHr5O4G45",
        "colab_type": "code",
        "colab": {}
      },
      "source": [
        "# Set column names to those generated by the one-hot encoding earlier\n",
        "col_names = one_hot.columns.values"
      ],
      "execution_count": 0,
      "outputs": []
    },
    {
      "cell_type": "code",
      "metadata": {
        "_uuid": "ca6347056925466a4e939c103c9fdeed2f4d3687",
        "_cell_guid": "0ba27840-97ba-42c4-b9e2-2fade87f3aa3",
        "trusted": false,
        "id": "MG0Y4_Bn4G48",
        "colab_type": "code",
        "colab": {}
      },
      "source": [
        "# Create the submission data.\n",
        "submission_results = pd.DataFrame(predictions, columns = col_names)"
      ],
      "execution_count": 0,
      "outputs": []
    },
    {
      "cell_type": "code",
      "metadata": {
        "_uuid": "0b459c4e0f929349201bad45beeb7fa8428ec7e2",
        "_cell_guid": "f17666d6-7f90-4cd1-8e1e-d68c0e582beb",
        "trusted": false,
        "id": "5OjLIFSz4G5A",
        "colab_type": "code",
        "colab": {}
      },
      "source": [
        "# Add the id as the first column\n",
        "submission_results.insert(0, 'id', test_data['id'])"
      ],
      "execution_count": 0,
      "outputs": []
    },
    {
      "cell_type": "code",
      "metadata": {
        "_uuid": "4f89e6713bb176ec1b4958d200c6e13005b9a048",
        "_cell_guid": "a01c9c29-e8c4-44e1-a0b2-1dbfddccff8c",
        "trusted": false,
        "id": "bqt9L8Dd4G5D",
        "colab_type": "code",
        "colab": {}
      },
      "source": [
        "# Save the submission\n",
        "submission_results.to_csv('submission.csv', index=False)"
      ],
      "execution_count": 0,
      "outputs": []
    },
    {
      "cell_type": "code",
      "metadata": {
        "_uuid": "4c2d532c95d4471c8abba76de4261f065676f726",
        "_cell_guid": "4124bd56-ac29-4847-a618-31b371ebbc8a",
        "trusted": false,
        "id": "TMyQ_jkv4G5F",
        "colab_type": "code",
        "colab": {}
      },
      "source": [
        ""
      ],
      "execution_count": 0,
      "outputs": []
    }
  ]
}